{
  "nbformat": 4,
  "nbformat_minor": 0,
  "metadata": {
    "kernelspec": {
      "display_name": "Python 3",
      "language": "python",
      "name": "python3"
    },
    "language_info": {
      "codemirror_mode": {
        "name": "ipython",
        "version": 3
      },
      "file_extension": ".py",
      "mimetype": "text/x-python",
      "name": "python",
      "nbconvert_exporter": "python",
      "pygments_lexer": "ipython3",
      "version": "3.8.5"
    },
    "colab": {
      "name": "Andrés Limón Cruz - Ejercicio07.ipynb",
      "provenance": [],
      "collapsed_sections": []
    }
  },
  "cells": [
    {
      "cell_type": "markdown",
      "metadata": {
        "id": "1-RXzAbsncIJ"
      },
      "source": [
        "# <span style=\"color: #084B8A;\">Taller de herramientas computacionales</span>\n",
        "### Ejercicio 7\n",
        "***Facultad de Ciencias, UNAM***  \n",
        "*Semestre 2022-1* \n",
        "\n",
        "**Profesor**: Jorge Zavaleta Sánchez  \n",
        "**Ayudante**: León Diego Rivera Hernández\n",
        "\n",
        "#### Indicaciones generales:\n",
        "\n",
        "* En cada una de las celdas de código escriba el programa que se pide. La celda donde se debe escribir el programa tiene como comentario la palabra ```#Programa```.\n",
        "* Utilice la celda *Markdown* **Solución** para escribir una breve explicación de sus programas.\n",
        "* Debe ejecutar la celda de abajo para cargar el o los modulos necesarios para hacer sus programas. Sólo en esta celda ponga los modulos que necesite para sus ejercicios."
      ]
    },
    {
      "cell_type": "code",
      "metadata": {
        "id": "siNOb9KhncIL"
      },
      "source": [
        "# Modulos\n",
        "import math # Modulo para funciones matematicas."
      ],
      "execution_count": 1,
      "outputs": []
    },
    {
      "cell_type": "markdown",
      "metadata": {
        "id": "4-avIE-1ncIM"
      },
      "source": [
        "***Nombre del alumno***: Andrés Limón Cruz"
      ]
    },
    {
      "cell_type": "markdown",
      "metadata": {
        "id": "G6Dc5PwzncIM"
      },
      "source": [
        "***E0***. Defina las variables $a$, $b$, $c$ y $d$ como: $a = 12$, $b = 5.6$, $c = \\dfrac{3a}{b^2}$, y $d = \\dfrac{(a-b)^{c}}{c}$, evalúe la siguiente expresión y muestre el resultado\n",
        "\n",
        "$$\n",
        "    \\exp\\left(\\dfrac{d-c}{a-2b}\\right) + \\ln\\left(\\left|c-d+\\dfrac{b}{a}\\right|\\right)\n",
        "$$\n",
        "\n",
        "**Solución**: Aquí solo hay que tener cuidado en la asignación de los valores a las variables y usar la función ```math.fabs()``` para calcular el valor absoluto."
      ]
    },
    {
      "cell_type": "code",
      "metadata": {
        "colab": {
          "base_uri": "https://localhost:8080/"
        },
        "id": "31u8b_jCncIM",
        "outputId": "e1541ef4-77bf-4661-fd53-10bbbc35177c"
      },
      "source": [
        "# Asignacion de variables\n",
        "a,b = 12,5.6\n",
        "c = 3*a/b**2\n",
        "d = (a-b)**c/c\n",
        "# Calculo y resultado\n",
        "print(f\"El resultado es: {math.exp((d-c)/(a-2*b)) + math.log(math.fabs(c - d + b/a)):2.4f}\")"
      ],
      "execution_count": 2,
      "outputs": [
        {
          "output_type": "stream",
          "name": "stdout",
          "text": [
            "El resultado es: 2292.5402\n"
          ]
        }
      ]
    },
    {
      "cell_type": "markdown",
      "metadata": {
        "id": "aez6XnWyncIN"
      },
      "source": [
        "***E1***. Evalúe las siguientes expresiones y muestre el resultado.\n",
        "\n",
        "***a)*** $15\\left(\\dfrac{\\sqrt{10}+3.7^{2}}{\\log_{10}(1365) + 1.9}\\right).$"
      ]
    },
    {
      "cell_type": "markdown",
      "metadata": {
        "id": "9r-iHQeMncIN"
      },
      "source": [
        "**Solución**: En este programa calculamos la expresion anterior, teniendo cuidado con el orden y cantidad de parentesis"
      ]
    },
    {
      "cell_type": "code",
      "metadata": {
        "colab": {
          "base_uri": "https://localhost:8080/"
        },
        "id": "xJzbD7mOncIN",
        "outputId": "477a4954-2131-4b74-e8a5-2b9702a54bf0"
      },
      "source": [
        "print(f\"El resultado es: {15*((((10**0.5)+3.7**2)/((math.log10(1365))+1.9)))}\")"
      ],
      "execution_count": 37,
      "outputs": [
        {
          "output_type": "stream",
          "name": "stdout",
          "text": [
            "El resultado es: 50.20407254482282\n"
          ]
        }
      ]
    },
    {
      "cell_type": "markdown",
      "metadata": {
        "id": "C9uQvdQ_ncIN"
      },
      "source": [
        "***b)*** $\\dfrac{(2.3)^{2}(1.7)}{\\sqrt{(1-(0.8)^{2})^{2} + (2-\\sqrt{0.87})^{2}}}.$"
      ]
    },
    {
      "cell_type": "markdown",
      "metadata": {
        "id": "5QwJ6RuvncIO"
      },
      "source": [
        "**Solución**: En este programa calculamos la expresion anterior, teniendo cuidado con el orden y cantidad de parentesis"
      ]
    },
    {
      "cell_type": "code",
      "metadata": {
        "colab": {
          "base_uri": "https://localhost:8080/"
        },
        "id": "sMKgALexncIO",
        "outputId": "2b79e3d6-9981-4da8-e608-e722e5a0a413"
      },
      "source": [
        "print(f\"El resultado es: {((2.3**2)*(1.7))/((1-(0.8)**2)**2+(2-(0.87**0.5))**2)**0.5}\")"
      ],
      "execution_count": 36,
      "outputs": [
        {
          "output_type": "stream",
          "name": "stdout",
          "text": [
            "El resultado es: 7.984246912217039\n"
          ]
        }
      ]
    },
    {
      "cell_type": "markdown",
      "metadata": {
        "id": "XjUmRXwXncIO"
      },
      "source": [
        "***c)*** $\\dfrac{\\sin\\left(\\dfrac{7\\pi}{9}\\right)}{\\cos^{2}\\left(\\dfrac{5}{7}\\pi\\right)} + \\frac{1}{7}\\tan\\left(\\dfrac{5}{12}\\pi\\right).$"
      ]
    },
    {
      "cell_type": "markdown",
      "metadata": {
        "id": "r18yruejncIO"
      },
      "source": [
        "**Solución**: Aquí calculamos la expresión anterior, usando la función de asignar el valor de radianes en los ángulos donde se requerían"
      ]
    },
    {
      "cell_type": "code",
      "metadata": {
        "colab": {
          "base_uri": "https://localhost:8080/"
        },
        "id": "deg-zKkLncIO",
        "outputId": "eb891dbb-0d12-4d5a-eddd-83b6f425c25a"
      },
      "source": [
        "print(f\"El resultado es: {((math.sin(math.radians((7*math.pi)/9)))/((math.cos(math.radians((5*math.pi)/7)))**2))+((1/7)*math.tan(math.radians((5*math.pi)/12)))}\")"
      ],
      "execution_count": 97,
      "outputs": [
        {
          "output_type": "stream",
          "name": "stdout",
          "text": [
            "El resultado es: 0.04596330168000192\n"
          ]
        }
      ]
    },
    {
      "cell_type": "markdown",
      "metadata": {
        "id": "_sqncvCsncIO"
      },
      "source": [
        "***E2***. Defina las variables $a$, $b$, $c$ y $d$ como: $a = 13$, $b=4.2$, $c=\\dfrac{4b}{a}$, y $d = \\dfrac{abc}{a+b+c}$, evalúe la siguiente expresión y muestre el resultado\n",
        "\n",
        "$$\n",
        "\\dfrac{\\sqrt{a^{2} + b^{2}}}{d-c} + \\ln(|b-a+c-d|).\n",
        "$$"
      ]
    },
    {
      "cell_type": "markdown",
      "metadata": {
        "id": "kdOBkBgNncIO"
      },
      "source": [
        "**Solución**: Asignamos el valor a cada variable y escribimos la expresion con el uso de las varibales para poder calcularla."
      ]
    },
    {
      "cell_type": "code",
      "metadata": {
        "colab": {
          "base_uri": "https://localhost:8080/"
        },
        "id": "1LGXvU9tncIP",
        "outputId": "fec93b13-842e-4ae7-e7e0-3e1939983589"
      },
      "source": [
        "a,b = 13,4.2\n",
        "c = 4*b/a\n",
        "d = a*b*c/a+b+c\n",
        "print(f\"El resultado es: {((a**2+b**2)**0.5/(d-c))+math.log(math.fabs(b-a+c-d))}\")"
      ],
      "execution_count": 90,
      "outputs": [
        {
          "output_type": "stream",
          "name": "stdout",
          "text": [
            "El resultado es: 4.332847248261314\n"
          ]
        }
      ]
    }
  ]
}