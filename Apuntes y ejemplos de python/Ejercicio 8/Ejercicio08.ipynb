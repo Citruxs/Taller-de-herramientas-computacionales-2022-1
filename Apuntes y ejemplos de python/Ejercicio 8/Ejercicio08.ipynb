{
 "cells": [
  {
   "cell_type": "markdown",
   "id": "3550ea92",
   "metadata": {},
   "source": [
    "**Nombre del alumno**: Andrés Limón Cruz"
   ]
  },
  {
   "cell_type": "code",
   "execution_count": 5,
   "id": "42f07ba9",
   "metadata": {},
   "outputs": [],
   "source": [
    "import numpy as np\n",
    "import math"
   ]
  },
  {
   "cell_type": "markdown",
   "id": "30986637",
   "metadata": {},
   "source": [
    "E1. Defina los vectores $u = [2~~4~~6~~8~~10]$ y $v = [5~~4~~3~~2~~1]$ como arreglos de numpy.\n",
    "\n",
    "Luego use alguno de estos vectores en una expresión matemática para crear los siguientes vectores\n",
    "$$\n",
    "    a) = \\begin{pmatrix}\n",
    "        \\frac{1}{2} & \\frac{1}{4} & \\frac{1}{6} & \\frac{1}{8} & \\frac{1}{10}\\\\\n",
    "    \\end{pmatrix}\\quad\n",
    "    b = \\begin{pmatrix}\n",
    "        \\frac{1}{2^2} & \\frac{1}{4^2} & \\frac{1}{6^2} & \\frac{1}{8^2} & \\frac{1}{10^2}\\\\\n",
    "    \\end{pmatrix}\\quad\n",
    "    c) = \\begin{pmatrix}\n",
    "        1 & 2 & 3 & 4 & 5 \\\\\n",
    "    \\end{pmatrix}\\quad\n",
    "    d) = \\begin{pmatrix}\n",
    "        1 & 1 & 1 & 1 & 1 \\\\\n",
    "    \\end{pmatrix}\\quad\n",
    "$$\n",
    "\n",
    "$$\n",
    "    e) = \\begin{pmatrix}\n",
    "        5^2 & 4^2 & 3^2 & 2^2 & 1^2 \\\\\n",
    "    \\end{pmatrix}\\quad\n",
    "    f) = \\begin{pmatrix}\n",
    "        5^5 & 4^4 & 3^3 & 2^2 & 1^1 \\\\\n",
    "    \\end{pmatrix}\\quad\n",
    "    g) = \\begin{pmatrix}\n",
    "        25 & 20 & 15 & 10 & 5 \\\\\n",
    "    \\end{pmatrix}\\quad\n",
    "    h) = \\begin{pmatrix}\n",
    "        4 & 3 & 2 & 1 & 0 \\\\\n",
    "    \\end{pmatrix}\\quad\n",
    "$$"
   ]
  },
  {
   "cell_type": "markdown",
   "id": "0735447b",
   "metadata": {},
   "source": [
    "**Solución:**Para realizar llegar a los resultados solicitados se usaron diversas operaciones, ademas del uso de un vector extra para el inciso c)"
   ]
  },
  {
   "cell_type": "code",
   "execution_count": 40,
   "id": "f3aed5a1",
   "metadata": {},
   "outputs": [
    {
     "name": "stdout",
     "output_type": "stream",
     "text": [
      "a): [0.5        0.25       0.16666667 0.125      0.1       ]\n",
      "b): [0.25       0.0625     0.02777778 0.015625   0.01      ]\n",
      "c): [1. 2. 3. 4. 5.]\n",
      "d): [1 1 1 1 1]\n",
      "e): [25 16  9  4  1]\n",
      "f): [3125  256   27    4    1]\n",
      "g): [25 20 15 10  5]\n",
      "h): [4 3 2 1 0]\n"
     ]
    }
   ],
   "source": [
    "u = np.array([2,4,6,8,10])\n",
    "v = np.array([5,4,3,2,1])\n",
    "w = np.array([1/5,1/2,1,2,5])\n",
    "print (\"a):\",u/u**2)\n",
    "print (\"b):\",(u/u**2)**2)\n",
    "print (\"c):\",v*w)\n",
    "print (\"d):\",v**0)\n",
    "print (\"e):\",v**2)\n",
    "print (\"f):\",v**v)\n",
    "print (\"g):\",v*5)\n",
    "print (\"h):\",v-1)"
   ]
  },
  {
   "cell_type": "markdown",
   "id": "fe3f2781",
   "metadata": {},
   "source": [
    "E2. Defina $r$ y $s$ como escalares con $r= 1.6 x 10^3$ y $ s = 14.2$, además $t,x$ y $y$ como vectores con $t = [1,2,3,4,5]$, $x =[0,2,4,6,8]$ y $y = [3,6,9,12,15]$. Para crear los vectores use las funciones numpy, no los escriba explicitamente. Luego, use las variables para calcular las siguientes expresiones usando las operaciones de vectores elemento a elemento.\n",
    "\n",
    "$$\n",
    "a)~~G=xt+ \\frac{r}{s^2} (y^2 - x)t~~~~~~~~b)~~R= \\dfrac{r(-xt+yt^2)}{15}-s^2(y-0.5x^2)t\n",
    "$$"
   ]
  },
  {
   "cell_type": "markdown",
   "id": "a650b472",
   "metadata": {},
   "source": [
    "**Solución:**Establecimos el valor de las variables y posteriormente realizamos las operaciones correspondientes."
   ]
  },
  {
   "cell_type": "code",
   "execution_count": 61,
   "id": "16c7f885",
   "metadata": {},
   "outputs": [
    {
     "name": "stdout",
     "output_type": "stream",
     "text": [
      "a) G= [  71.4144019   543.57548106 1844.96964888 4404.0833168  8649.40289625]\n",
      "b) R= [ -498.25333333  -546.45333333   781.74666667  7612.69333333\n",
      " 20659.4       ]\n"
     ]
    }
   ],
   "source": [
    "r= 1600\n",
    "s= 14.2\n",
    "t = np.array([1,2,3,4,5])\n",
    "x = np.array([0,2,4,6,8])\n",
    "y = np.array([3,6,9,12,15])\n",
    "print(\"a) G=\",(x*t)+((r)/s**2)*(y**2-x)*t)\n",
    "print(\"b) R=\",((r)*((-x)*t+y*t^2)/(15))-(s**2)*(y-0.5*x**2)*t)"
   ]
  }
 ],
 "metadata": {
  "kernelspec": {
   "display_name": "Python 3",
   "language": "python",
   "name": "python3"
  },
  "language_info": {
   "codemirror_mode": {
    "name": "ipython",
    "version": 3
   },
   "file_extension": ".py",
   "mimetype": "text/x-python",
   "name": "python",
   "nbconvert_exporter": "python",
   "pygments_lexer": "ipython3",
   "version": "3.8.8"
  }
 },
 "nbformat": 4,
 "nbformat_minor": 5
}
