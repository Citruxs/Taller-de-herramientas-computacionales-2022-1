{
 "cells": [
  {
   "cell_type": "markdown",
   "id": "5bddb46f",
   "metadata": {},
   "source": [
    "**E1.** El índice de masa corporal (IMC) es una medida de la obesidad y este se cálculo mediante la formula\n",
    "$$\n",
    "IMC = \\frac{P}{A^2}\n",
    "$$\n",
    "donde $P$ es el peso en kilogramos y $A$ es la altura en metros. La clasificación de obesidad es:\n",
    "\n",
    "\n",
    "<18.5: Bajo peso\n",
    "\n",
    "18.5-24.9: Normal\n",
    "\n",
    "25.9-29.9: Sobrepeso\n",
    "\n",
    "\\>29.9: Obesidad"
   ]
  },
  {
   "cell_type": "markdown",
   "id": "46c83e1f",
   "metadata": {},
   "source": [
    "**E1.1** Escriba un programa que calcule el IMC de una persona. Se debe pedir all usuario su peso en kilogramos y su altura en centímetros. Como resultado se debe desplegar un enunciado que diga \"Tu IMC es VVV, cuya clasificación es CCC\", donde VVV es el valor de IMC calculado, y CCC es la clasificación correspondiente"
   ]
  },
  {
   "cell_type": "markdown",
   "id": "4bb50c2c",
   "metadata": {},
   "source": [
    "**Solucion:** El programa calcula el IMC de una persona solicitando su estatura y peso, con ellos calcula el IMC de la persona y le asigna una clasificacion en base a una serie de instrucciones definidas."
   ]
  },
  {
   "cell_type": "code",
   "execution_count": 43,
   "id": "410a94e2",
   "metadata": {},
   "outputs": [
    {
     "name": "stdout",
     "output_type": "stream",
     "text": [
      "Dame tu peso en Kg: 68\n",
      "Dame tu estatura en cm: 155\n",
      "Tu IMC es 28.3 cuya clasificación es: Sobrepeso\n"
     ]
    }
   ],
   "source": [
    "import math as ma\n",
    "p = float(input(\"Dame tu peso en Kg: \"))\n",
    "e = float(input(\"Dame tu estatura en cm: \"))\n",
    "IMC = p/((e/100)**2)\n",
    "if IMC < 18.5 : print(f\"Tu IMC es {IMC:2.4} cuya clasificación es: Bajo peso\")\n",
    "elif 18.5<IMC< 24.9 : print(f\"Tu IMC es {IMC:2.4} cuya clasificación es: Normal\")\n",
    "elif 25<IMC< 29.9 : print(f\"Tu IMC es {IMC:2.4} cuya clasificación es: Sobrepeso\")\n",
    "elif 29.9<IMC: print(f\"Tu IMC es {IMC:2.4} cuya clasificación es: Obesidad\")"
   ]
  },
  {
   "cell_type": "markdown",
   "id": "51bac97e",
   "metadata": {},
   "source": [
    "**E1.2** Pruebe su programa calculando el IMC y obteniendo la clasificación para las personas con los siguientes datos:    \n",
    "a) Altura: 188cm, peso: 82kg                \n",
    "b) Altura: 155cm, peso: 68kg      \n",
    "Reporte en una celda Markdown sus resultados"
   ]
  },
  {
   "cell_type": "markdown",
   "id": "097b081e",
   "metadata": {},
   "source": [
    "Persona **a)** cuya altura es: 188 cm y peso: 82 Kg\n",
    "\n",
    "IMC y clasifiación reportada: IMC= 23.2, Clasificación: Normal\n",
    "\n",
    "Persona **b)** cuya altura es: 155 cm y peso: 68 Kg\n",
    "\n",
    "IMC y clasifiación reportada: IMC= 28.3, Clasificación: Sobrepeso"
   ]
  }
 ],
 "metadata": {
  "kernelspec": {
   "display_name": "Python 3",
   "language": "python",
   "name": "python3"
  },
  "language_info": {
   "codemirror_mode": {
    "name": "ipython",
    "version": 3
   },
   "file_extension": ".py",
   "mimetype": "text/x-python",
   "name": "python",
   "nbconvert_exporter": "python",
   "pygments_lexer": "ipython3",
   "version": "3.8.8"
  }
 },
 "nbformat": 4,
 "nbformat_minor": 5
}
